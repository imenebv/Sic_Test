{
 "cells": [
  {
   "cell_type": "markdown",
   "metadata": {},
   "source": [
    "## Quiz #0502"
   ]
  },
  {
   "cell_type": "markdown",
   "metadata": {},
   "source": [
    "### \"Human Activity Recognition\" "
   ]
  },
  {
   "cell_type": "markdown",
   "metadata": {},
   "source": [
    "#### Answer the following questions by providing Python code:\n",
    "#### Objectives:\n",
    "- Carry out the EDA.\n",
    "- Carry out the data pre-processing.\n",
    "- Optimize and test a predictive model of your choice."
   ]
  },
  {
   "cell_type": "code",
   "execution_count": 5,
   "metadata": {},
   "outputs": [
    {
     "name": "stdout",
     "output_type": "stream",
     "text": [
      "Collecting xgboost\n",
      "  Downloading xgboost-1.4.2-py3-none-win_amd64.whl (97.8 MB)\n",
      "Requirement already satisfied: numpy in c:\\users\\pc\\anaconda3\\lib\\site-packages (from xgboost) (1.19.2)\n",
      "Requirement already satisfied: scipy in c:\\users\\pc\\anaconda3\\lib\\site-packages (from xgboost) (1.5.2)\n",
      "Installing collected packages: xgboost\n",
      "Successfully installed xgboost-1.4.2\n"
     ]
    }
   ],
   "source": [
    "!pip install xgboost"
   ]
  },
  {
   "cell_type": "code",
   "execution_count": 49,
   "metadata": {},
   "outputs": [],
   "source": [
    "import numpy as np\n",
    "import pandas as pd\n",
    "import matplotlib.pyplot as plt\n",
    "import seaborn as sns\n",
    "import os\n",
    "import warnings\n",
    "from sklearn.model_selection import train_test_split, GridSearchCV\n",
    "from sklearn.neighbors import KNeighborsClassifier\n",
    "from sklearn.tree import DecisionTreeClassifier\n",
    "from sklearn.ensemble import RandomForestClassifier,AdaBoostClassifier, GradientBoostingClassifier\n",
    "from xgboost import XGBClassifier\n",
    "from sklearn import metrics, preprocessing\n",
    "warnings.filterwarnings(action='ignore')                  # Turn off the warnings.\n",
    "%matplotlib inline"
   ]
  },
  {
   "cell_type": "markdown",
   "metadata": {},
   "source": [
    "#### Read in data:\n",
    "The explanation on the dataset can be found [here](https://archive.ics.uci.edu/ml/datasets/human+activity+recognition+using+smartphones)."
   ]
  },
  {
   "cell_type": "code",
   "execution_count": 50,
   "metadata": {},
   "outputs": [],
   "source": [
    "# Go to the directory where the data file is located. \n",
    "os.chdir(r'C:\\Users\\pc\\OneDrive\\Bureau')                # Please, replace the path with your own. "
   ]
  },
  {
   "cell_type": "code",
   "execution_count": 51,
   "metadata": {
    "scrolled": true
   },
   "outputs": [],
   "source": [
    "df = pd.read_csv('data_human activity recognition.csv', header='infer')"
   ]
  },
  {
   "cell_type": "code",
   "execution_count": 52,
   "metadata": {},
   "outputs": [
    {
     "data": {
      "text/plain": [
       "(19622, 160)"
      ]
     },
     "execution_count": 52,
     "metadata": {},
     "output_type": "execute_result"
    }
   ],
   "source": [
    "df.shape"
   ]
  },
  {
   "cell_type": "code",
   "execution_count": 53,
   "metadata": {},
   "outputs": [
    {
     "data": {
      "text/plain": [
       "Index(['Unnamed: 0', 'user_name', 'raw_timestamp_part_1',\n",
       "       'raw_timestamp_part_2', 'cvtd_timestamp', 'new_window', 'num_window',\n",
       "       'roll_belt', 'pitch_belt', 'yaw_belt',\n",
       "       ...\n",
       "       'gyros_forearm_x', 'gyros_forearm_y', 'gyros_forearm_z',\n",
       "       'accel_forearm_x', 'accel_forearm_y', 'accel_forearm_z',\n",
       "       'magnet_forearm_x', 'magnet_forearm_y', 'magnet_forearm_z', 'classe'],\n",
       "      dtype='object', length=160)"
      ]
     },
     "execution_count": 53,
     "metadata": {},
     "output_type": "execute_result"
    }
   ],
   "source": [
    "df.columns"
   ]
  },
  {
   "cell_type": "markdown",
   "metadata": {},
   "source": [
    "1). Carry out the EDA. Check for the missing values. HINT: The response variable is 'classe'."
   ]
  },
  {
   "cell_type": "code",
   "execution_count": 54,
   "metadata": {},
   "outputs": [
    {
     "data": {
      "text/plain": [
       "True"
      ]
     },
     "execution_count": 54,
     "metadata": {},
     "output_type": "execute_result"
    }
   ],
   "source": [
    "df.isnull().values.any()"
   ]
  },
  {
   "cell_type": "code",
   "execution_count": 58,
   "metadata": {},
   "outputs": [
    {
     "data": {
      "text/plain": [
       "1921600"
      ]
     },
     "execution_count": 58,
     "metadata": {},
     "output_type": "execute_result"
    }
   ],
   "source": [
    "df.isnull().sum().sum()"
   ]
  },
  {
   "cell_type": "markdown",
   "metadata": {},
   "source": [
    "2). Get rid of the columns that have more than 97% missing values."
   ]
  },
  {
   "cell_type": "code",
   "execution_count": 62,
   "metadata": {},
   "outputs": [
    {
     "data": {
      "text/html": [
       "<div>\n",
       "<style scoped>\n",
       "    .dataframe tbody tr th:only-of-type {\n",
       "        vertical-align: middle;\n",
       "    }\n",
       "\n",
       "    .dataframe tbody tr th {\n",
       "        vertical-align: top;\n",
       "    }\n",
       "\n",
       "    .dataframe thead th {\n",
       "        text-align: right;\n",
       "    }\n",
       "</style>\n",
       "<table border=\"1\" class=\"dataframe\">\n",
       "  <thead>\n",
       "    <tr style=\"text-align: right;\">\n",
       "      <th></th>\n",
       "      <th>Unnamed: 0</th>\n",
       "      <th>user_name</th>\n",
       "      <th>raw_timestamp_part_1</th>\n",
       "      <th>raw_timestamp_part_2</th>\n",
       "      <th>cvtd_timestamp</th>\n",
       "      <th>new_window</th>\n",
       "      <th>num_window</th>\n",
       "      <th>roll_belt</th>\n",
       "      <th>pitch_belt</th>\n",
       "      <th>yaw_belt</th>\n",
       "      <th>...</th>\n",
       "      <th>gyros_forearm_x</th>\n",
       "      <th>gyros_forearm_y</th>\n",
       "      <th>gyros_forearm_z</th>\n",
       "      <th>accel_forearm_x</th>\n",
       "      <th>accel_forearm_y</th>\n",
       "      <th>accel_forearm_z</th>\n",
       "      <th>magnet_forearm_x</th>\n",
       "      <th>magnet_forearm_y</th>\n",
       "      <th>magnet_forearm_z</th>\n",
       "      <th>classe</th>\n",
       "    </tr>\n",
       "  </thead>\n",
       "  <tbody>\n",
       "    <tr>\n",
       "      <th>0</th>\n",
       "      <td>1</td>\n",
       "      <td>carlitos</td>\n",
       "      <td>1323084231</td>\n",
       "      <td>788290</td>\n",
       "      <td>05/12/2011 11:23</td>\n",
       "      <td>no</td>\n",
       "      <td>11</td>\n",
       "      <td>1.41</td>\n",
       "      <td>8.07</td>\n",
       "      <td>-94.4</td>\n",
       "      <td>...</td>\n",
       "      <td>0.03</td>\n",
       "      <td>0.00</td>\n",
       "      <td>-0.02</td>\n",
       "      <td>192</td>\n",
       "      <td>203</td>\n",
       "      <td>-215</td>\n",
       "      <td>-17</td>\n",
       "      <td>654.0</td>\n",
       "      <td>476.0</td>\n",
       "      <td>A</td>\n",
       "    </tr>\n",
       "    <tr>\n",
       "      <th>1</th>\n",
       "      <td>2</td>\n",
       "      <td>carlitos</td>\n",
       "      <td>1323084231</td>\n",
       "      <td>808298</td>\n",
       "      <td>05/12/2011 11:23</td>\n",
       "      <td>no</td>\n",
       "      <td>11</td>\n",
       "      <td>1.41</td>\n",
       "      <td>8.07</td>\n",
       "      <td>-94.4</td>\n",
       "      <td>...</td>\n",
       "      <td>0.02</td>\n",
       "      <td>0.00</td>\n",
       "      <td>-0.02</td>\n",
       "      <td>192</td>\n",
       "      <td>203</td>\n",
       "      <td>-216</td>\n",
       "      <td>-18</td>\n",
       "      <td>661.0</td>\n",
       "      <td>473.0</td>\n",
       "      <td>A</td>\n",
       "    </tr>\n",
       "    <tr>\n",
       "      <th>2</th>\n",
       "      <td>3</td>\n",
       "      <td>carlitos</td>\n",
       "      <td>1323084231</td>\n",
       "      <td>820366</td>\n",
       "      <td>05/12/2011 11:23</td>\n",
       "      <td>no</td>\n",
       "      <td>11</td>\n",
       "      <td>1.42</td>\n",
       "      <td>8.07</td>\n",
       "      <td>-94.4</td>\n",
       "      <td>...</td>\n",
       "      <td>0.03</td>\n",
       "      <td>-0.02</td>\n",
       "      <td>0.00</td>\n",
       "      <td>196</td>\n",
       "      <td>204</td>\n",
       "      <td>-213</td>\n",
       "      <td>-18</td>\n",
       "      <td>658.0</td>\n",
       "      <td>469.0</td>\n",
       "      <td>A</td>\n",
       "    </tr>\n",
       "    <tr>\n",
       "      <th>3</th>\n",
       "      <td>4</td>\n",
       "      <td>carlitos</td>\n",
       "      <td>1323084232</td>\n",
       "      <td>120339</td>\n",
       "      <td>05/12/2011 11:23</td>\n",
       "      <td>no</td>\n",
       "      <td>12</td>\n",
       "      <td>1.48</td>\n",
       "      <td>8.05</td>\n",
       "      <td>-94.4</td>\n",
       "      <td>...</td>\n",
       "      <td>0.02</td>\n",
       "      <td>-0.02</td>\n",
       "      <td>0.00</td>\n",
       "      <td>189</td>\n",
       "      <td>206</td>\n",
       "      <td>-214</td>\n",
       "      <td>-16</td>\n",
       "      <td>658.0</td>\n",
       "      <td>469.0</td>\n",
       "      <td>A</td>\n",
       "    </tr>\n",
       "    <tr>\n",
       "      <th>4</th>\n",
       "      <td>5</td>\n",
       "      <td>carlitos</td>\n",
       "      <td>1323084232</td>\n",
       "      <td>196328</td>\n",
       "      <td>05/12/2011 11:23</td>\n",
       "      <td>no</td>\n",
       "      <td>12</td>\n",
       "      <td>1.48</td>\n",
       "      <td>8.07</td>\n",
       "      <td>-94.4</td>\n",
       "      <td>...</td>\n",
       "      <td>0.02</td>\n",
       "      <td>0.00</td>\n",
       "      <td>-0.02</td>\n",
       "      <td>189</td>\n",
       "      <td>206</td>\n",
       "      <td>-214</td>\n",
       "      <td>-17</td>\n",
       "      <td>655.0</td>\n",
       "      <td>473.0</td>\n",
       "      <td>A</td>\n",
       "    </tr>\n",
       "    <tr>\n",
       "      <th>...</th>\n",
       "      <td>...</td>\n",
       "      <td>...</td>\n",
       "      <td>...</td>\n",
       "      <td>...</td>\n",
       "      <td>...</td>\n",
       "      <td>...</td>\n",
       "      <td>...</td>\n",
       "      <td>...</td>\n",
       "      <td>...</td>\n",
       "      <td>...</td>\n",
       "      <td>...</td>\n",
       "      <td>...</td>\n",
       "      <td>...</td>\n",
       "      <td>...</td>\n",
       "      <td>...</td>\n",
       "      <td>...</td>\n",
       "      <td>...</td>\n",
       "      <td>...</td>\n",
       "      <td>...</td>\n",
       "      <td>...</td>\n",
       "      <td>...</td>\n",
       "    </tr>\n",
       "    <tr>\n",
       "      <th>19617</th>\n",
       "      <td>19618</td>\n",
       "      <td>adelmo</td>\n",
       "      <td>1322832937</td>\n",
       "      <td>588376</td>\n",
       "      <td>02/12/2011 13:35</td>\n",
       "      <td>no</td>\n",
       "      <td>864</td>\n",
       "      <td>147.00</td>\n",
       "      <td>-34.80</td>\n",
       "      <td>129.0</td>\n",
       "      <td>...</td>\n",
       "      <td>1.73</td>\n",
       "      <td>-1.75</td>\n",
       "      <td>-0.25</td>\n",
       "      <td>-271</td>\n",
       "      <td>-68</td>\n",
       "      <td>-37</td>\n",
       "      <td>-205</td>\n",
       "      <td>-587.0</td>\n",
       "      <td>6.0</td>\n",
       "      <td>E</td>\n",
       "    </tr>\n",
       "    <tr>\n",
       "      <th>19618</th>\n",
       "      <td>19619</td>\n",
       "      <td>adelmo</td>\n",
       "      <td>1322832937</td>\n",
       "      <td>596287</td>\n",
       "      <td>02/12/2011 13:35</td>\n",
       "      <td>no</td>\n",
       "      <td>864</td>\n",
       "      <td>145.00</td>\n",
       "      <td>-35.30</td>\n",
       "      <td>130.0</td>\n",
       "      <td>...</td>\n",
       "      <td>1.59</td>\n",
       "      <td>-1.36</td>\n",
       "      <td>0.00</td>\n",
       "      <td>-271</td>\n",
       "      <td>-91</td>\n",
       "      <td>-43</td>\n",
       "      <td>-151</td>\n",
       "      <td>-635.0</td>\n",
       "      <td>-36.0</td>\n",
       "      <td>E</td>\n",
       "    </tr>\n",
       "    <tr>\n",
       "      <th>19619</th>\n",
       "      <td>19620</td>\n",
       "      <td>adelmo</td>\n",
       "      <td>1322832937</td>\n",
       "      <td>636283</td>\n",
       "      <td>02/12/2011 13:35</td>\n",
       "      <td>no</td>\n",
       "      <td>864</td>\n",
       "      <td>145.00</td>\n",
       "      <td>-35.50</td>\n",
       "      <td>130.0</td>\n",
       "      <td>...</td>\n",
       "      <td>1.54</td>\n",
       "      <td>-1.20</td>\n",
       "      <td>0.05</td>\n",
       "      <td>-263</td>\n",
       "      <td>-99</td>\n",
       "      <td>-45</td>\n",
       "      <td>-116</td>\n",
       "      <td>-654.0</td>\n",
       "      <td>-70.0</td>\n",
       "      <td>E</td>\n",
       "    </tr>\n",
       "    <tr>\n",
       "      <th>19620</th>\n",
       "      <td>19621</td>\n",
       "      <td>adelmo</td>\n",
       "      <td>1322832937</td>\n",
       "      <td>964299</td>\n",
       "      <td>02/12/2011 13:35</td>\n",
       "      <td>no</td>\n",
       "      <td>864</td>\n",
       "      <td>143.00</td>\n",
       "      <td>-35.90</td>\n",
       "      <td>131.0</td>\n",
       "      <td>...</td>\n",
       "      <td>1.48</td>\n",
       "      <td>-0.90</td>\n",
       "      <td>0.05</td>\n",
       "      <td>-270</td>\n",
       "      <td>-141</td>\n",
       "      <td>-51</td>\n",
       "      <td>-68</td>\n",
       "      <td>-678.0</td>\n",
       "      <td>-98.0</td>\n",
       "      <td>E</td>\n",
       "    </tr>\n",
       "    <tr>\n",
       "      <th>19621</th>\n",
       "      <td>19622</td>\n",
       "      <td>adelmo</td>\n",
       "      <td>1322832937</td>\n",
       "      <td>972293</td>\n",
       "      <td>02/12/2011 13:35</td>\n",
       "      <td>yes</td>\n",
       "      <td>864</td>\n",
       "      <td>143.00</td>\n",
       "      <td>-36.00</td>\n",
       "      <td>132.0</td>\n",
       "      <td>...</td>\n",
       "      <td>1.38</td>\n",
       "      <td>-0.64</td>\n",
       "      <td>0.08</td>\n",
       "      <td>-278</td>\n",
       "      <td>-159</td>\n",
       "      <td>-52</td>\n",
       "      <td>-60</td>\n",
       "      <td>-686.0</td>\n",
       "      <td>-110.0</td>\n",
       "      <td>E</td>\n",
       "    </tr>\n",
       "  </tbody>\n",
       "</table>\n",
       "<p>19622 rows × 60 columns</p>\n",
       "</div>"
      ],
      "text/plain": [
       "       Unnamed: 0 user_name  raw_timestamp_part_1  raw_timestamp_part_2  \\\n",
       "0               1  carlitos            1323084231                788290   \n",
       "1               2  carlitos            1323084231                808298   \n",
       "2               3  carlitos            1323084231                820366   \n",
       "3               4  carlitos            1323084232                120339   \n",
       "4               5  carlitos            1323084232                196328   \n",
       "...           ...       ...                   ...                   ...   \n",
       "19617       19618    adelmo            1322832937                588376   \n",
       "19618       19619    adelmo            1322832937                596287   \n",
       "19619       19620    adelmo            1322832937                636283   \n",
       "19620       19621    adelmo            1322832937                964299   \n",
       "19621       19622    adelmo            1322832937                972293   \n",
       "\n",
       "         cvtd_timestamp new_window  num_window  roll_belt  pitch_belt  \\\n",
       "0      05/12/2011 11:23         no          11       1.41        8.07   \n",
       "1      05/12/2011 11:23         no          11       1.41        8.07   \n",
       "2      05/12/2011 11:23         no          11       1.42        8.07   \n",
       "3      05/12/2011 11:23         no          12       1.48        8.05   \n",
       "4      05/12/2011 11:23         no          12       1.48        8.07   \n",
       "...                 ...        ...         ...        ...         ...   \n",
       "19617  02/12/2011 13:35         no         864     147.00      -34.80   \n",
       "19618  02/12/2011 13:35         no         864     145.00      -35.30   \n",
       "19619  02/12/2011 13:35         no         864     145.00      -35.50   \n",
       "19620  02/12/2011 13:35         no         864     143.00      -35.90   \n",
       "19621  02/12/2011 13:35        yes         864     143.00      -36.00   \n",
       "\n",
       "       yaw_belt  ...  gyros_forearm_x  gyros_forearm_y  gyros_forearm_z  \\\n",
       "0         -94.4  ...             0.03             0.00            -0.02   \n",
       "1         -94.4  ...             0.02             0.00            -0.02   \n",
       "2         -94.4  ...             0.03            -0.02             0.00   \n",
       "3         -94.4  ...             0.02            -0.02             0.00   \n",
       "4         -94.4  ...             0.02             0.00            -0.02   \n",
       "...         ...  ...              ...              ...              ...   \n",
       "19617     129.0  ...             1.73            -1.75            -0.25   \n",
       "19618     130.0  ...             1.59            -1.36             0.00   \n",
       "19619     130.0  ...             1.54            -1.20             0.05   \n",
       "19620     131.0  ...             1.48            -0.90             0.05   \n",
       "19621     132.0  ...             1.38            -0.64             0.08   \n",
       "\n",
       "       accel_forearm_x  accel_forearm_y  accel_forearm_z  magnet_forearm_x  \\\n",
       "0                  192              203             -215               -17   \n",
       "1                  192              203             -216               -18   \n",
       "2                  196              204             -213               -18   \n",
       "3                  189              206             -214               -16   \n",
       "4                  189              206             -214               -17   \n",
       "...                ...              ...              ...               ...   \n",
       "19617             -271              -68              -37              -205   \n",
       "19618             -271              -91              -43              -151   \n",
       "19619             -263              -99              -45              -116   \n",
       "19620             -270             -141              -51               -68   \n",
       "19621             -278             -159              -52               -60   \n",
       "\n",
       "       magnet_forearm_y  magnet_forearm_z  classe  \n",
       "0                 654.0             476.0       A  \n",
       "1                 661.0             473.0       A  \n",
       "2                 658.0             469.0       A  \n",
       "3                 658.0             469.0       A  \n",
       "4                 655.0             473.0       A  \n",
       "...                 ...               ...     ...  \n",
       "19617            -587.0               6.0       E  \n",
       "19618            -635.0             -36.0       E  \n",
       "19619            -654.0             -70.0       E  \n",
       "19620            -678.0             -98.0       E  \n",
       "19621            -686.0            -110.0       E  \n",
       "\n",
       "[19622 rows x 60 columns]"
      ]
     },
     "execution_count": 62,
     "metadata": {},
     "output_type": "execute_result"
    }
   ],
   "source": [
    "missing = df.isnull().sum() * 100 / len(df)\n",
    "missing[missing>97] \n",
    "df.drop(missing[missing>97].index.tolist(), axis=1, inplace=True)\n",
    "df"
   ]
  },
  {
   "cell_type": "markdown",
   "metadata": {},
   "source": [
    "3). Get rid of the unnecessary columns. HINT: Those columns with \"time\" in the name and those that are obviously unnecessary."
   ]
  },
  {
   "cell_type": "code",
   "execution_count": 63,
   "metadata": {},
   "outputs": [],
   "source": [
    "df.drop([\"Unnamed: 0\", \"user_name\"]+[tc for tc in df.columns.tolist() if 'time' in tc], axis=1, inplace=True)\n",
    "df[\"new_window\"]=df.new_window.map((dict(yes=1, no=0)))"
   ]
  },
  {
   "cell_type": "markdown",
   "metadata": {},
   "source": [
    "4). Label encode the responde variable. HINT: use preprocessing.LabelEncoder(). "
   ]
  },
  {
   "cell_type": "code",
   "execution_count": 66,
   "metadata": {},
   "outputs": [
    {
     "data": {
      "text/plain": [
       "0        0\n",
       "1        0\n",
       "2        0\n",
       "3        0\n",
       "4        0\n",
       "        ..\n",
       "19617    4\n",
       "19618    4\n",
       "19619    4\n",
       "19620    4\n",
       "19621    4\n",
       "Name: classe, Length: 19622, dtype: int64"
      ]
     },
     "execution_count": 66,
     "metadata": {},
     "output_type": "execute_result"
    }
   ],
   "source": [
    "labelEncoder = preprocessing.LabelEncoder()\n",
    "df[\"classe\"] = labelEncoder.fit_transform(df[\"classe\"])\n",
    "df[\"classe\"]"
   ]
  },
  {
   "cell_type": "markdown",
   "metadata": {},
   "source": [
    "5). Carry out min-max scaling of the exploratory variables. HINT: use preprocessing.MinMaxScaler()."
   ]
  },
  {
   "cell_type": "code",
   "execution_count": 67,
   "metadata": {},
   "outputs": [],
   "source": [
    "scaler = preprocessing.MinMaxScaler()\n",
    "scaled = scaler.fit_transform(df.drop(\"classe\", axis=1))"
   ]
  },
  {
   "cell_type": "markdown",
   "metadata": {},
   "source": [
    "6). Choose an algorithm and carry out the predictive analysis.\n",
    "\n",
    "- Optimize the hyperparameter(s)\n",
    "- Calculate the accuracy.\n",
    "- Aim for upper 90% accuracy."
   ]
  },
  {
   "cell_type": "code",
   "execution_count": 68,
   "metadata": {},
   "outputs": [],
   "source": [
    "X_train, X_test, y_train, y_test = train_test_split(scaled, df.classe, random_state=123)"
   ]
  },
  {
   "cell_type": "code",
   "execution_count": 69,
   "metadata": {},
   "outputs": [
    {
     "data": {
      "text/plain": [
       "[<matplotlib.lines.Line2D at 0x18d6beeb2e0>]"
      ]
     },
     "execution_count": 69,
     "metadata": {},
     "output_type": "execute_result"
    },
    {
     "data": {
      "image/png": "[encoded data removed]",
      "text/plain": [
       "<Figure size 432x288 with 1 Axes>"
      ]
     },
     "metadata": {
      "needs_background": "light"
     },
     "output_type": "display_data"
    }
   ],
   "source": [
    "score = []\n",
    "for i in range(1,30):\n",
    "    kNN = KNeighborsClassifier(n_neighbors=i)\n",
    "    kNN.fit(X_train, y_train)\n",
    "    y_pred = kNN.predict(X_test)\n",
    "    score.append(metrics.accuracy_score(y_test, y_pred))\n",
    "plt.plot([i for i in range(1,30)], score)"
   ]
  },
  {
   "cell_type": "code",
   "execution_count": 70,
   "metadata": {},
   "outputs": [
    {
     "name": "stdout",
     "output_type": "stream",
     "text": [
      "Accuracy: 0.9722788422339992\n"
     ]
    }
   ],
   "source": [
    "kNN = KNeighborsClassifier(n_neighbors=2)\n",
    "kNN.fit(X_train, y_train)\n",
    "y_pred = kNN.predict(X_test)\n",
    "score.append(metrics.accuracy_score(y_test, y_pred))\n",
    "print(\"Accuracy:\",metrics.accuracy_score(y_test, y_pred))"
   ]
  },
  {
   "cell_type": "markdown",
   "metadata": {},
   "source": [
    "when the data is scaled, knn work well"
   ]
  }
 ],
 "metadata": {
  "kernelspec": {
   "display_name": "Python 3",
   "language": "python",
   "name": "python3"
  },
  "language_info": {
   "codemirror_mode": {
    "name": "ipython",
    "version": 3
   },
   "file_extension": ".py",
   "mimetype": "text/x-python",
   "name": "python",
   "nbconvert_exporter": "python",
   "pygments_lexer": "ipython3",
   "version": "3.8.5"
  },
  "toc": {
   "base_numbering": 1,
   "nav_menu": {},
   "number_sections": true,
   "sideBar": true,
   "skip_h1_title": false,
   "title_cell": "Table of Contents",
   "title_sidebar": "Contents",
   "toc_cell": false,
   "toc_position": {},
   "toc_section_display": true,
   "toc_window_display": false
  },
  "varInspector": {
   "cols": {
    "lenName": 16,
    "lenType": 16,
    "lenVar": 40
   },
   "kernels_config": {
    "python": {
     "delete_cmd_postfix": "",
     "delete_cmd_prefix": "del ",
     "library": "var_list.py",
     "varRefreshCmd": "print(var_dic_list())"
    },
    "r": {
     "delete_cmd_postfix": ") ",
     "delete_cmd_prefix": "rm(",
     "library": "var_list.r",
     "varRefreshCmd": "cat(var_dic_list()) "
    }
   },
   "types_to_exclude": [
    "module",
    "function",
    "builtin_function_or_method",
    "instance",
    "_Feature"
   ],
   "window_display": false
  }
 },
 "nbformat": 4,
 "nbformat_minor": 2
}
