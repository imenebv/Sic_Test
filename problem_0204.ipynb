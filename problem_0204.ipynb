{
 "cells": [
  {
   "cell_type": "markdown",
   "metadata": {},
   "source": [
    "## Quiz #0204"
   ]
  },
  {
   "cell_type": "code",
   "execution_count": 2,
   "metadata": {},
   "outputs": [],
   "source": [
    "import pandas as pd\n",
    "import numpy as np\n",
    "import os\n",
    "import matplotlib.pyplot as plt\n",
    "%matplotlib inline"
   ]
  },
  {
   "cell_type": "markdown",
   "metadata": {},
   "source": [
    "#### Read in the data."
   ]
  },
  {
   "cell_type": "code",
   "execution_count": null,
   "metadata": {},
   "outputs": [],
   "source": [
    "# Go to the directory where the data file is located. \n",
    "# os.chdir(r'~~')                # Please, replace the path with your own."
   ]
  },
  {
   "cell_type": "code",
   "execution_count": 3,
   "metadata": {},
   "outputs": [],
   "source": [
    "df = pd.read_csv('data_coffeeshop.csv', header='infer',na_values=[' '])"
   ]
  },
  {
   "cell_type": "code",
   "execution_count": 4,
   "metadata": {},
   "outputs": [
    {
     "data": {
      "text/plain": [
       "(43182, 3)"
      ]
     },
     "execution_count": 4,
     "metadata": {},
     "output_type": "execute_result"
    }
   ],
   "source": [
    "df.shape"
   ]
  },
  {
   "cell_type": "code",
   "execution_count": 5,
   "metadata": {},
   "outputs": [
    {
     "data": {
      "text/html": [
       "<div>\n",
       "<style scoped>\n",
       "    .dataframe tbody tr th:only-of-type {\n",
       "        vertical-align: middle;\n",
       "    }\n",
       "\n",
       "    .dataframe tbody tr th {\n",
       "        vertical-align: top;\n",
       "    }\n",
       "\n",
       "    .dataframe thead th {\n",
       "        text-align: right;\n",
       "    }\n",
       "</style>\n",
       "<table border=\"1\" class=\"dataframe\">\n",
       "  <thead>\n",
       "    <tr style=\"text-align: right;\">\n",
       "      <th></th>\n",
       "      <th>yearOfStart</th>\n",
       "      <th>CurrentState</th>\n",
       "      <th>sizeOfsite</th>\n",
       "    </tr>\n",
       "  </thead>\n",
       "  <tbody>\n",
       "    <tr>\n",
       "      <th>0</th>\n",
       "      <td>2008.0</td>\n",
       "      <td>In</td>\n",
       "      <td>20.80</td>\n",
       "    </tr>\n",
       "    <tr>\n",
       "      <th>1</th>\n",
       "      <td>2010.0</td>\n",
       "      <td>In</td>\n",
       "      <td>212.72</td>\n",
       "    </tr>\n",
       "    <tr>\n",
       "      <th>2</th>\n",
       "      <td>2013.0</td>\n",
       "      <td>In</td>\n",
       "      <td>20.04</td>\n",
       "    </tr>\n",
       "    <tr>\n",
       "      <th>3</th>\n",
       "      <td>2012.0</td>\n",
       "      <td>In</td>\n",
       "      <td>64.17</td>\n",
       "    </tr>\n",
       "    <tr>\n",
       "      <th>4</th>\n",
       "      <td>2002.0</td>\n",
       "      <td>Out</td>\n",
       "      <td>11.40</td>\n",
       "    </tr>\n",
       "  </tbody>\n",
       "</table>\n",
       "</div>"
      ],
      "text/plain": [
       "   yearOfStart CurrentState  sizeOfsite\n",
       "0       2008.0           In       20.80\n",
       "1       2010.0           In      212.72\n",
       "2       2013.0           In       20.04\n",
       "3       2012.0           In       64.17\n",
       "4       2002.0          Out       11.40"
      ]
     },
     "execution_count": 5,
     "metadata": {},
     "output_type": "execute_result"
    }
   ],
   "source": [
    "df.head(5)"
   ]
  },
  {
   "cell_type": "markdown",
   "metadata": {},
   "source": [
    "#### Answer the following questions."
   ]
  },
  {
   "cell_type": "markdown",
   "metadata": {},
   "source": [
    "1). Make a frequency table of 'yearOfStart' and visualize by year. \n",
    "- Sort by the year.\n",
    "- Draw a line plot from 1997 to 2014. <= Hint: plt.xlim()"
   ]
  },
  {
   "cell_type": "code",
   "execution_count": 39,
   "metadata": {},
   "outputs": [
    {
     "data": {
      "text/plain": [
       "yearOfStart\n",
       "1968.0       1\n",
       "1974.0       1\n",
       "1966.0       2\n",
       "1969.0       2\n",
       "1975.0       2\n",
       "1964.0       2\n",
       "1967.0       3\n",
       "1972.0       3\n",
       "1979.0       4\n",
       "1970.0       4\n",
       "1976.0       5\n",
       "1971.0       6\n",
       "1981.0       8\n",
       "1983.0       9\n",
       "1980.0       9\n",
       "1984.0      11\n",
       "1982.0      12\n",
       "1985.0      18\n",
       "1986.0      21\n",
       "1987.0      21\n",
       "1989.0      23\n",
       "1990.0      25\n",
       "1988.0      26\n",
       "1991.0      28\n",
       "1992.0      37\n",
       "1996.0      41\n",
       "1999.0      46\n",
       "1994.0      48\n",
       "1995.0      48\n",
       "1993.0      50\n",
       "1997.0      54\n",
       "1998.0      54\n",
       "2000.0      89\n",
       "2001.0     183\n",
       "2002.0     398\n",
       "2004.0     648\n",
       "2005.0     654\n",
       "2003.0     799\n",
       "2006.0     863\n",
       "2007.0    1233\n",
       "2008.0    1579\n",
       "2009.0    2489\n",
       "2010.0    4172\n",
       "2011.0    5942\n",
       "2012.0    6315\n",
       "2013.0    7270\n",
       "2014.0    9905\n",
       "dtype: int64"
      ]
     },
     "execution_count": 39,
     "metadata": {},
     "output_type": "execute_result"
    }
   ],
   "source": [
    "df.sort_values(by=\"yearOfStart\",inplace=True)\n",
    "df_freq=df.value_counts(\"yearOfStart\").sort_values()\n",
    "df_freq.sort_values()"
   ]
  },
  {
   "cell_type": "code",
   "execution_count": 40,
   "metadata": {},
   "outputs": [
    {
     "data": {
      "text/plain": [
       "[<matplotlib.lines.Line2D at 0x27cbae53430>]"
      ]
     },
     "execution_count": 40,
     "metadata": {},
     "output_type": "execute_result"
    },
    {
     "data": {
      "image/png": "[encoded data removed]",
      "text/plain": [
       "<Figure size 432x288 with 1 Axes>"
      ]
     },
     "metadata": {
      "needs_background": "light"
     },
     "output_type": "display_data"
    }
   ],
   "source": [
    "plt.xlabel(\"x\")\n",
    "plt.ylabel(\"yearOfStart\")\n",
    "plt.xlim([1997,2014])\n",
    "plt.plot(df_freq)"
   ]
  },
  {
   "cell_type": "markdown",
   "metadata": {},
   "source": [
    "2). Now, split the data by the current state of business ('In' or 'Out' of business). Then, visualize the yearly trend of the 'yearOfStart' frequencies. \n",
    "- Sort by the year.\n",
    "- Draw two overlapping line plots from 1997 to 2014.\n",
    "- Use the 'figure' object."
   ]
  },
  {
   "cell_type": "code",
   "execution_count": 47,
   "metadata": {},
   "outputs": [
    {
     "data": {
      "text/plain": [
       "yearOfStart\n",
       "1967.0       2\n",
       "1970.0       2\n",
       "1971.0       4\n",
       "1972.0       2\n",
       "1974.0       1\n",
       "1975.0       1\n",
       "1976.0       1\n",
       "1979.0       2\n",
       "1980.0       3\n",
       "1981.0       6\n",
       "1982.0       2\n",
       "1983.0       3\n",
       "1984.0       4\n",
       "1985.0       5\n",
       "1986.0       5\n",
       "1987.0       6\n",
       "1988.0      11\n",
       "1989.0       5\n",
       "1990.0       7\n",
       "1991.0       7\n",
       "1992.0       3\n",
       "1993.0      14\n",
       "1994.0      14\n",
       "1995.0      13\n",
       "1996.0      14\n",
       "1997.0      21\n",
       "1998.0      25\n",
       "1999.0      23\n",
       "2000.0      26\n",
       "2001.0      76\n",
       "2002.0     105\n",
       "2003.0     163\n",
       "2004.0     180\n",
       "2005.0     204\n",
       "2006.0     314\n",
       "2007.0     496\n",
       "2008.0     729\n",
       "2009.0    1229\n",
       "2010.0    2503\n",
       "2011.0    3961\n",
       "2012.0    4642\n",
       "2013.0    6045\n",
       "2014.0    9125\n",
       "dtype: int64"
      ]
     },
     "execution_count": 47,
     "metadata": {},
     "output_type": "execute_result"
    }
   ],
   "source": [
    "df_in = df[df.CurrentState=='In'].value_counts(\"yearOfStart\").sort_index()\n",
    "df_in "
   ]
  },
  {
   "cell_type": "code",
   "execution_count": 46,
   "metadata": {},
   "outputs": [
    {
     "data": {
      "text/plain": [
       "yearOfStart\n",
       "1964.0       2\n",
       "1966.0       2\n",
       "1967.0       1\n",
       "1968.0       1\n",
       "1969.0       2\n",
       "1970.0       2\n",
       "1971.0       2\n",
       "1972.0       1\n",
       "1975.0       1\n",
       "1976.0       4\n",
       "1979.0       2\n",
       "1980.0       6\n",
       "1981.0       2\n",
       "1982.0      10\n",
       "1983.0       6\n",
       "1984.0       7\n",
       "1985.0      13\n",
       "1986.0      16\n",
       "1987.0      15\n",
       "1988.0      15\n",
       "1989.0      18\n",
       "1990.0      18\n",
       "1991.0      21\n",
       "1992.0      34\n",
       "1993.0      36\n",
       "1994.0      34\n",
       "1995.0      35\n",
       "1996.0      27\n",
       "1997.0      33\n",
       "1998.0      29\n",
       "1999.0      23\n",
       "2000.0      63\n",
       "2001.0     107\n",
       "2002.0     293\n",
       "2003.0     636\n",
       "2004.0     468\n",
       "2005.0     450\n",
       "2006.0     549\n",
       "2007.0     737\n",
       "2008.0     850\n",
       "2009.0    1260\n",
       "2010.0    1669\n",
       "2011.0    1981\n",
       "2012.0    1673\n",
       "2013.0    1225\n",
       "2014.0     780\n",
       "dtype: int64"
      ]
     },
     "execution_count": 46,
     "metadata": {},
     "output_type": "execute_result"
    }
   ],
   "source": [
    "df_out = df[df.CurrentState=='Out'].value_counts(\"yearOfStart\").sort_index()\n",
    "df_out"
   ]
  },
  {
   "cell_type": "code",
   "execution_count": 67,
   "metadata": {},
   "outputs": [
    {
     "data": {
      "text/plain": [
       "<Figure size 504x504 with 0 Axes>"
      ]
     },
     "metadata": {},
     "output_type": "display_data"
    },
    {
     "data": {
      "text/plain": [
       "<matplotlib.legend.Legend at 0x27cb9735c70>"
      ]
     },
     "execution_count": 67,
     "metadata": {},
     "output_type": "execute_result"
    },
    {
     "data": {
      "image/png": "[encoded data removed]",
      "text/plain": [
       "<Figure size 432x288 with 1 Axes>"
      ]
     },
     "metadata": {
      "needs_background": "light"
     },
     "output_type": "display_data"
    }
   ],
   "source": [
    "plt.figure(figsize=(7,7))\n",
    "\n",
    "plt.show()\n",
    "\n",
    "plt.plot(df_in,label=\"IN\",linestyle=\"dashdot\")\n",
    "\n",
    "plt.xlabel(\"Years of Start\")\n",
    "\n",
    "plt.ylabel(\"Trend\")\n",
    "\n",
    "plt.plot(df_out,label=\"Out\",linestyle=\"dashdot\")\n",
    "\n",
    "plt.xlim((1997,2014))\n",
    "\n",
    "plt.title(\"coffee shop \")\n",
    "\n",
    "plt.legend()"
   ]
  },
  {
   "cell_type": "markdown",
   "metadata": {},
   "source": [
    "3). From the results of 1) and 2), how can you describe the trend in general?"
   ]
  },
  {
   "cell_type": "markdown",
   "metadata": {},
   "source": [
    "- Around the year 2008, began a steep increase in the number of new coffee shops.\n",
    "- As of the year 2014, more coffee shops opened in the past 5 years are still in business rather than going out of business."
   ]
  },
  {
   "cell_type": "code",
   "execution_count": null,
   "metadata": {},
   "outputs": [],
   "source": []
  }
 ],
 "metadata": {
  "kernelspec": {
   "display_name": "Python 3",
   "language": "python",
   "name": "python3"
  },
  "language_info": {
   "codemirror_mode": {
    "name": "ipython",
    "version": 3
   },
   "file_extension": ".py",
   "mimetype": "text/x-python",
   "name": "python",
   "nbconvert_exporter": "python",
   "pygments_lexer": "ipython3",
   "version": "3.8.5"
  },
  "toc": {
   "base_numbering": 1,
   "nav_menu": {},
   "number_sections": true,
   "sideBar": true,
   "skip_h1_title": false,
   "title_cell": "Table of Contents",
   "title_sidebar": "Contents",
   "toc_cell": false,
   "toc_position": {},
   "toc_section_display": true,
   "toc_window_display": false
  },
  "varInspector": {
   "cols": {
    "lenName": 16,
    "lenType": 16,
    "lenVar": 40
   },
   "kernels_config": {
    "python": {
     "delete_cmd_postfix": "",
     "delete_cmd_prefix": "del ",
     "library": "var_list.py",
     "varRefreshCmd": "print(var_dic_list())"
    },
    "r": {
     "delete_cmd_postfix": ") ",
     "delete_cmd_prefix": "rm(",
     "library": "var_list.r",
     "varRefreshCmd": "cat(var_dic_list()) "
    }
   },
   "types_to_exclude": [
    "module",
    "function",
    "builtin_function_or_method",
    "instance",
    "_Feature"
   ],
   "window_display": false
  }
 },
 "nbformat": 4,
 "nbformat_minor": 2
}
